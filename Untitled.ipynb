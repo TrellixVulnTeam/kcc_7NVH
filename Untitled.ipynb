{
 "cells": [
  {
   "cell_type": "code",
   "execution_count": 64,
   "metadata": {},
   "outputs": [],
   "source": [
    "import pandas as pd\n",
    "import tokenizers\n",
    "import glob\n",
    "import os\n",
    "\n",
    "import sentencepiece as spm\n"
   ]
  },
  {
   "cell_type": "markdown",
   "metadata": {},
   "source": [
    "## Make .txt files"
   ]
  },
  {
   "cell_type": "code",
   "execution_count": 2,
   "metadata": {},
   "outputs": [],
   "source": [
    "# files = glob.glob(\"./data/GYAFC_Corpus/Family_Relationships/tune/*\")\n",
    "# files"
   ]
  },
  {
   "cell_type": "code",
   "execution_count": 3,
   "metadata": {
    "scrolled": false
   },
   "outputs": [],
   "source": [
    "# for fi in files:\n",
    "#     file = open(fi, \"r\", encoding=\"utf8\")\n",
    "#     for line in file.readlines():\n",
    "#         with open(f\"{fi}_fr_tune.txt\", \"a\", encoding=\"utf8\") as f:\n",
    "#             if line != \"\\n\":\n",
    "#                 f.write(line)"
   ]
  },
  {
   "cell_type": "markdown",
   "metadata": {},
   "source": [
    "## Tokenizer"
   ]
  },
  {
   "cell_type": "code",
   "execution_count": 4,
   "metadata": {},
   "outputs": [],
   "source": [
    "tokenizer = tokenizers.BertWordPieceTokenizer(lowercase=False)"
   ]
  },
  {
   "cell_type": "code",
   "execution_count": 6,
   "metadata": {},
   "outputs": [],
   "source": [
    "# # src\n",
    "# src_file = \"./data/informal_em_train.txt\"\n",
    "# vocab_size = 30000\n",
    "# limit_alphabet = 6000\n",
    "# min_frequency = 5\n",
    "\n",
    "# tokenizer.train(files=src_file,\n",
    "#                 vocab_size=vocab_size,\n",
    "#                 limit_alphabet=limit_alphabet,\n",
    "#                 min_frequency=min_frequency)"
   ]
  },
  {
   "cell_type": "code",
   "execution_count": 7,
   "metadata": {},
   "outputs": [],
   "source": [
    "# tokenizer.decode([1232, 23434, 3453, 234, 4857, 234])"
   ]
  },
  {
   "cell_type": "code",
   "execution_count": 8,
   "metadata": {},
   "outputs": [],
   "source": [
    "# # trg\n",
    "# trg_file = \"./data/formal_em_train.txt\"\n",
    "# tokenizer.train(files= trg_file, \n",
    "#                 vocab_size=vocab_size, \n",
    "#                 limit_alphabet=limit_alphabet,\n",
    "#                 min_frequency=min_frequency)"
   ]
  },
  {
   "cell_type": "code",
   "execution_count": 9,
   "metadata": {},
   "outputs": [],
   "source": [
    "# tokenizer.decode([1232, 23434, 3453, 234, 4857, 234])"
   ]
  },
  {
   "cell_type": "code",
   "execution_count": 10,
   "metadata": {},
   "outputs": [
    {
     "data": {
      "text/plain": [
       "['./data/informal_em_train.txt', './data/formal_em_train.txt']"
      ]
     },
     "execution_count": 10,
     "metadata": {},
     "output_type": "execute_result"
    }
   ],
   "source": [
    "datasets = glob.glob(\"./data/*_em_train.txt\")\n",
    "datasets"
   ]
  },
  {
   "cell_type": "code",
   "execution_count": 11,
   "metadata": {},
   "outputs": [],
   "source": [
    "vocab_size = 30000\n",
    "limit_alphabet = 6000\n",
    "min_frequency = 5\n",
    "\n",
    "for dataset in datasets:\n",
    "    data_file = dataset\n",
    "    tokenizer.train(files=data_file,\n",
    "                    vocab_size=vocab_size,\n",
    "                    limit_alphabet=limit_alphabet,\n",
    "                    min_frequency=min_frequency)"
   ]
  },
  {
   "cell_type": "code",
   "execution_count": 37,
   "metadata": {},
   "outputs": [],
   "source": [
    "formal_file = './data/formal_em_train.txt'\n",
    "informal_file = './data/informal_em_train.txt'"
   ]
  },
  {
   "cell_type": "code",
   "execution_count": 44,
   "metadata": {},
   "outputs": [],
   "source": [
    "formal_df = pd.read_csv(formal_file, sep=\"\\n\", header=None)\n",
    "formal_df.columns = ['formal']\n",
    "informal_df = pd.read_csv(informal_file, sep=\"\\n\", header=None)\n",
    "informal_df.columns = ['informal']\n",
    "\n",
    "total_df = pd.concat([formal_df, informal_df], axis=1)"
   ]
  },
  {
   "cell_type": "code",
   "execution_count": 56,
   "metadata": {},
   "outputs": [
    {
     "data": {
      "text/html": [
       "<div>\n",
       "<style scoped>\n",
       "    .dataframe tbody tr th:only-of-type {\n",
       "        vertical-align: middle;\n",
       "    }\n",
       "\n",
       "    .dataframe tbody tr th {\n",
       "        vertical-align: top;\n",
       "    }\n",
       "\n",
       "    .dataframe thead th {\n",
       "        text-align: right;\n",
       "    }\n",
       "</style>\n",
       "<table border=\"1\" class=\"dataframe\">\n",
       "  <thead>\n",
       "    <tr style=\"text-align: right;\">\n",
       "      <th></th>\n",
       "      <th>formal</th>\n",
       "      <th>informal</th>\n",
       "    </tr>\n",
       "  </thead>\n",
       "  <tbody>\n",
       "    <tr>\n",
       "      <th>0</th>\n",
       "      <td>The In-Laws movie isn't a holiday movie, but i...</td>\n",
       "      <td>the movie The In-Laws not exactly a holiday mo...</td>\n",
       "    </tr>\n",
       "    <tr>\n",
       "      <th>1</th>\n",
       "      <td>I don't think that page gave me viruses.</td>\n",
       "      <td>that page did not give me viroses(i think)</td>\n",
       "    </tr>\n",
       "    <tr>\n",
       "      <th>2</th>\n",
       "      <td>I watch it everyday, my favorite charachter is...</td>\n",
       "      <td>of corse i be wachin it evry day, my fav chara...</td>\n",
       "    </tr>\n",
       "    <tr>\n",
       "      <th>3</th>\n",
       "      <td>Funbrain.com and runescape.com are great for f...</td>\n",
       "      <td>runescape.com (my kids love it) &amp; funbrain.com...</td>\n",
       "    </tr>\n",
       "    <tr>\n",
       "      <th>4</th>\n",
       "      <td>He was on the Late Night show with Conan O'Bri...</td>\n",
       "      <td>Is he gay?He was on Late Night with Conan O'Br...</td>\n",
       "    </tr>\n",
       "  </tbody>\n",
       "</table>\n",
       "</div>"
      ],
      "text/plain": [
       "                                              formal  \\\n",
       "0  The In-Laws movie isn't a holiday movie, but i...   \n",
       "1           I don't think that page gave me viruses.   \n",
       "2  I watch it everyday, my favorite charachter is...   \n",
       "3  Funbrain.com and runescape.com are great for f...   \n",
       "4  He was on the Late Night show with Conan O'Bri...   \n",
       "\n",
       "                                            informal  \n",
       "0  the movie The In-Laws not exactly a holiday mo...  \n",
       "1         that page did not give me viroses(i think)  \n",
       "2  of corse i be wachin it evry day, my fav chara...  \n",
       "3  runescape.com (my kids love it) & funbrain.com...  \n",
       "4  Is he gay?He was on Late Night with Conan O'Br...  "
      ]
     },
     "execution_count": 56,
     "metadata": {},
     "output_type": "execute_result"
    }
   ],
   "source": [
    "total_df.head()"
   ]
  },
  {
   "cell_type": "code",
   "execution_count": 65,
   "metadata": {},
   "outputs": [],
   "source": [
    "parameter = '--input={} --model_prefix={} --vocab_size={} --user_defined_symbols={} --model_type={} --character_coverage={}'\n",
    "\n",
    "train_input_file = \"./data/formal_em_train.txt\"\n",
    "vocab_size = 30000\n",
    "prefix = 'formal_em_spm'\n",
    "user_defined_symbols = '[PAD],[CLS],[SEP],[MASK]'\n",
    "model_type = 'bpe'\n",
    "character_coverage = 1.0 # default\n",
    "\n",
    "cmd = parameter.format(train_input_file, prefix, vocab_size, user_defined_symbols, model_type, character_coverage)\n",
    "\n",
    "spm.SentencePieceTrainer.Train(cmd)"
   ]
  },
  {
   "cell_type": "code",
   "execution_count": null,
   "metadata": {},
   "outputs": [],
   "source": []
  }
 ],
 "metadata": {
  "kernelspec": {
   "display_name": "Python 3",
   "language": "python",
   "name": "python3"
  },
  "language_info": {
   "codemirror_mode": {
    "name": "ipython",
    "version": 3
   },
   "file_extension": ".py",
   "mimetype": "text/x-python",
   "name": "python",
   "nbconvert_exporter": "python",
   "pygments_lexer": "ipython3",
   "version": "3.7.4"
  }
 },
 "nbformat": 4,
 "nbformat_minor": 2
}
