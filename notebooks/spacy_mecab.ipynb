{
 "cells": [
  {
   "cell_type": "code",
   "execution_count": 16,
   "id": "e1b3d2bb",
   "metadata": {},
   "outputs": [],
   "source": [
    "# !pip install spacy"
   ]
  },
  {
   "cell_type": "code",
   "execution_count": 17,
   "id": "2d9e6d21",
   "metadata": {},
   "outputs": [],
   "source": [
    "import spacy\n",
    "import argparse\n",
    "import torchtext\n",
    "from torchtext.data import TabularDataset"
   ]
  },
  {
   "cell_type": "code",
   "execution_count": 18,
   "id": "202e6a3f",
   "metadata": {
    "scrolled": true
   },
   "outputs": [
    {
     "name": "stderr",
     "output_type": "stream",
     "text": [
      "C:\\Users\\YEHOON\\anaconda3\\envs\\torch\\python.exe: No module named spacy\n",
      "C:\\Users\\YEHOON\\anaconda3\\envs\\torch\\python.exe: No module named spacy\n"
     ]
    }
   ],
   "source": [
    "!python -m spacy download en_core_web_sm\n",
    "!python -m spacy download de_core_news_sm"
   ]
  },
  {
   "cell_type": "markdown",
   "id": "402e071d",
   "metadata": {},
   "source": [
    "## TST Spacy Tokenize"
   ]
  },
  {
   "cell_type": "code",
   "execution_count": 19,
   "id": "04511745",
   "metadata": {},
   "outputs": [],
   "source": [
    "PAD_WORD = '<pad>'\n",
    "UNK_WORD = '<unk>'\n",
    "BOS_WORD = '<bos>'\n",
    "EOS_WORD = '<eos>'\n",
    "\n",
    "src_lang_model = spacy.load('en_core_web_sm')\n",
    "trg_lang_model = spacy.load('en_core_web_sm')\n",
    "\n",
    "def tokenize_src(text):\n",
    "    return [tok.text for tok in src_lang_model.tokenizer(text)]\n",
    "\n",
    "def tokenize_trg(text):\n",
    "    return [tok.text for tok in trg_lang_model.tokenizer(text)]\n",
    "\n",
    "SRC = torchtext.data.Field(\n",
    "    tokenize=tokenize_src, lower=True,\n",
    "    pad_token=PAD_WORD, init_token=BOS_WORD, eos_token=EOS_WORD)\n",
    "\n",
    "TRG = torchtext.data.Field(\n",
    "    tokenize=tokenize_trg, lower=True,\n",
    "    pad_token=PAD_WORD, init_token=BOS_WORD, eos_token=EOS_WORD)"
   ]
  },
  {
   "cell_type": "code",
   "execution_count": 17,
   "id": "a60c3ba4",
   "metadata": {},
   "outputs": [],
   "source": [
    "MAX_LEN = 100\n",
    "MIN_FREQ = 3"
   ]
  },
  {
   "cell_type": "code",
   "execution_count": 18,
   "id": "3af21cb6",
   "metadata": {},
   "outputs": [],
   "source": [
    "def filter_examples_with_length(x):\n",
    "    return len(vars(x)['src']) <= MAX_LEN and len(vars(x)['trg']) <= MAX_LEN"
   ]
  },
  {
   "cell_type": "code",
   "execution_count": 19,
   "id": "85753b09",
   "metadata": {
    "scrolled": true
   },
   "outputs": [],
   "source": [
    "# train_datafields = [(\"src\", SRC), (\"trg\", TRG)]\n",
    "# train_\n",
    "\n",
    "# 이거 서버에서는 됨!! 윈도우만 퍼미션 에러남~\n",
    "train = TabularDataset(path=\"../.data/gyafc/em_train.csv\",format=\"csv\",\n",
    "                       fields=[(\"src\", SRC), (\"trg\", TRG)])\n",
    "valid = TabularDataset(path=\"../.data/gyafc/em_valid.csv\",format=\"csv\",\n",
    "                       fields=[(\"src\", SRC), (\"trg\", TRG)])\n",
    "test = TabularDataset(path=\"../.data/gyafc/em_test.csv\",format=\"csv\",\n",
    "                       fields=[(\"src\", SRC), (\"trg\", TRG)])"
   ]
  },
  {
   "cell_type": "code",
   "execution_count": 15,
   "id": "fa6eccde",
   "metadata": {},
   "outputs": [
    {
     "name": "stdout",
     "output_type": "stream",
     "text": [
      "[Info] Get source language vocabulary size: 7083\n",
      "[Info] Get target language vocabulary size: 7129\n"
     ]
    }
   ],
   "source": [
    "SRC.build_vocab(train.src, min_freq=MIN_FREQ)\n",
    "print('[Info] Get source language vocabulary size:', len(SRC.vocab))\n",
    "TRG.build_vocab(train.trg, min_freq=MIN_FREQ)\n",
    "print('[Info] Get target language vocabulary size:', len(TRG.vocab))"
   ]
  },
  {
   "cell_type": "markdown",
   "id": "17fed5af",
   "metadata": {},
   "source": [
    "## Korpora test"
   ]
  },
  {
   "cell_type": "code",
   "execution_count": 6,
   "id": "94514c0d",
   "metadata": {},
   "outputs": [
    {
     "name": "stdout",
     "output_type": "stream",
     "text": [
      "Collecting mecab\n",
      "  Downloading mecab-0.996.3-cp39-cp39-win_amd64.whl (500 kB)\n",
      "Installing collected packages: mecab\n",
      "Successfully installed mecab-0.996.3\n"
     ]
    }
   ],
   "source": [
    "!pip install mecab"
   ]
  },
  {
   "cell_type": "code",
   "execution_count": 7,
   "id": "f56ab1c6",
   "metadata": {},
   "outputs": [],
   "source": [
    "import spacy\n",
    "import argparse\n",
    "import torchtext\n",
    "from konlpy.tag import Mecab\n",
    "from torchtext.data import TabularDataset"
   ]
  },
  {
   "cell_type": "code",
   "execution_count": 15,
   "id": "46059a5e",
   "metadata": {},
   "outputs": [
    {
     "name": "stdout",
     "output_type": "stream",
     "text": [
      "[Info] Get source language vocabulary size: 25248\n"
     ]
    }
   ],
   "source": [
    "PAD_WORD = '<pad>'\n",
    "UNK_WORD = '<unk>'\n",
    "BOS_WORD = '<bos>'\n",
    "EOS_WORD = '<eos>'\n",
    "\n",
    "MIN_FREQ =3 \n",
    "\n",
    "src_lang_model = spacy.load('en_core_web_sm')\n",
    "trg_lang_model = spacy.load('en_core_web_sm')\n",
    "\n",
    "def tokenize_src(text):\n",
    "    return [tok.text for tok in src_lang_model.tokenizer(text)]\n",
    "\n",
    "def tokenize_trg(text):\n",
    "    return [tok.text for tok in trg_lang_model.tokenizer(text)]\n",
    "\n",
    "SRC = torchtext.data.Field(\n",
    "        tokenize=tokenize_src, lower=False,\n",
    "        pad_token=PAD_WORD, init_token=BOS_WORD, eos_token=EOS_WORD)\n",
    "TRG = torchtext.data.Field(\n",
    "    tokenize=tokenize_trg, lower=False,\n",
    "    pad_token=PAD_WORD, init_token=BOS_WORD, eos_token=EOS_WORD)\n",
    "train = TabularDataset(path=\"../.data/korpora/train.csv\", format=\"csv\", fields=[(\"src\", SRC), (\"trg\", TRG)])\n",
    "\n",
    "SRC.build_vocab(train.src, min_freq=MIN_FREQ)\n",
    "print('[Info] Get source language vocabulary size:', len(SRC.vocab))"
   ]
  },
  {
   "cell_type": "code",
   "execution_count": null,
   "id": "a86c353b",
   "metadata": {},
   "outputs": [],
   "source": []
  }
 ],
 "metadata": {
  "kernelspec": {
   "display_name": "Python 3",
   "language": "python",
   "name": "python3"
  },
  "language_info": {
   "codemirror_mode": {
    "name": "ipython",
    "version": 3
   },
   "file_extension": ".py",
   "mimetype": "text/x-python",
   "name": "python",
   "nbconvert_exporter": "python",
   "pygments_lexer": "ipython3",
   "version": "3.8.8"
  }
 },
 "nbformat": 4,
 "nbformat_minor": 5
}
