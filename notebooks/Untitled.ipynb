{
 "cells": [
  {
   "cell_type": "code",
   "execution_count": 70,
   "id": "14788368",
   "metadata": {},
   "outputs": [],
   "source": [
    "import torch\n",
    "from torch import nn"
   ]
  },
  {
   "cell_type": "code",
   "execution_count": 71,
   "id": "3a376537",
   "metadata": {},
   "outputs": [],
   "source": [
    "hidden2logv = nn.Linear(512, 256)\n",
    "c2hidden = nn.Linear(256, 512)"
   ]
  },
  {
   "cell_type": "code",
   "execution_count": 72,
   "id": "3689be1b",
   "metadata": {},
   "outputs": [],
   "source": [
    "enc_output = torch.rand(16, 20, 512)"
   ]
  },
  {
   "cell_type": "code",
   "execution_count": 73,
   "id": "b6167fd4",
   "metadata": {},
   "outputs": [
    {
     "data": {
      "text/plain": [
       "torch.Size([16, 20, 256])"
      ]
     },
     "execution_count": 73,
     "metadata": {},
     "output_type": "execute_result"
    }
   ],
   "source": [
    "z = hidden2logv(enc_output)\n",
    "z.size()"
   ]
  },
  {
   "cell_type": "code",
   "execution_count": 74,
   "id": "c1a5749a",
   "metadata": {},
   "outputs": [],
   "source": [
    "c, s = z.chunk(2, dim=-1)"
   ]
  },
  {
   "cell_type": "code",
   "execution_count": 75,
   "id": "55ee45bd",
   "metadata": {},
   "outputs": [
    {
     "data": {
      "text/plain": [
       "torch.Size([16, 20, 128])"
      ]
     },
     "execution_count": 75,
     "metadata": {},
     "output_type": "execute_result"
    }
   ],
   "source": [
    "c.size()"
   ]
  },
  {
   "cell_type": "code",
   "execution_count": 78,
   "id": "5fd7589e",
   "metadata": {},
   "outputs": [],
   "source": [
    "pad = torch.zeros_like(c)\n",
    "pad.size()\n",
    "\n",
    "s_pad=torch.zeros_like(s)"
   ]
  },
  {
   "cell_type": "code",
   "execution_count": 81,
   "id": "e58e9ef3",
   "metadata": {},
   "outputs": [
    {
     "data": {
      "text/plain": [
       "tensor([[[ 0.2446,  0.3274,  0.2667,  ...,  0.0000,  0.0000,  0.0000],\n",
       "         [ 0.2432,  0.3979,  0.2512,  ...,  0.0000,  0.0000,  0.0000],\n",
       "         [ 0.3439,  0.3483, -0.0780,  ...,  0.0000,  0.0000,  0.0000],\n",
       "         ...,\n",
       "         [ 0.0928,  0.5553, -0.3264,  ...,  0.0000,  0.0000,  0.0000],\n",
       "         [ 0.0463,  0.2137, -0.0280,  ...,  0.0000,  0.0000,  0.0000],\n",
       "         [-0.1837,  0.4616, -0.1029,  ...,  0.0000,  0.0000,  0.0000]],\n",
       "\n",
       "        [[-0.0862,  0.7486, -0.0088,  ...,  0.0000,  0.0000,  0.0000],\n",
       "         [-0.0506,  0.3900, -0.1927,  ...,  0.0000,  0.0000,  0.0000],\n",
       "         [ 0.0308,  0.4369, -0.1399,  ...,  0.0000,  0.0000,  0.0000],\n",
       "         ...,\n",
       "         [-0.0100,  0.4374, -0.3308,  ...,  0.0000,  0.0000,  0.0000],\n",
       "         [ 0.0275,  0.5113, -0.3622,  ...,  0.0000,  0.0000,  0.0000],\n",
       "         [ 0.0095,  0.6625,  0.0751,  ...,  0.0000,  0.0000,  0.0000]],\n",
       "\n",
       "        [[-0.0233,  0.2371, -0.5136,  ...,  0.0000,  0.0000,  0.0000],\n",
       "         [-0.1613,  0.7691,  0.1284,  ...,  0.0000,  0.0000,  0.0000],\n",
       "         [-0.0016,  0.5977,  0.1913,  ...,  0.0000,  0.0000,  0.0000],\n",
       "         ...,\n",
       "         [-0.1128,  0.3252, -0.1411,  ...,  0.0000,  0.0000,  0.0000],\n",
       "         [ 0.1762,  0.0651, -0.1050,  ...,  0.0000,  0.0000,  0.0000],\n",
       "         [-0.1566,  0.4559, -0.1953,  ...,  0.0000,  0.0000,  0.0000]],\n",
       "\n",
       "        ...,\n",
       "\n",
       "        [[-0.0239,  0.3960, -0.3243,  ...,  0.0000,  0.0000,  0.0000],\n",
       "         [ 0.1307,  0.3896, -0.1146,  ...,  0.0000,  0.0000,  0.0000],\n",
       "         [ 0.0947,  0.4416, -0.3608,  ...,  0.0000,  0.0000,  0.0000],\n",
       "         ...,\n",
       "         [ 0.1251,  0.3385,  0.0678,  ...,  0.0000,  0.0000,  0.0000],\n",
       "         [ 0.3378,  0.2345,  0.2791,  ...,  0.0000,  0.0000,  0.0000],\n",
       "         [-0.0502,  0.2581, -0.3328,  ...,  0.0000,  0.0000,  0.0000]],\n",
       "\n",
       "        [[ 0.0119,  0.5618,  0.0700,  ...,  0.0000,  0.0000,  0.0000],\n",
       "         [-0.0548,  0.3865,  0.1231,  ...,  0.0000,  0.0000,  0.0000],\n",
       "         [-0.0912,  0.8060, -0.0385,  ...,  0.0000,  0.0000,  0.0000],\n",
       "         ...,\n",
       "         [ 0.1290,  0.2677, -0.2007,  ...,  0.0000,  0.0000,  0.0000],\n",
       "         [-0.1385,  0.6513,  0.1880,  ...,  0.0000,  0.0000,  0.0000],\n",
       "         [-0.0083,  0.4254, -0.0521,  ...,  0.0000,  0.0000,  0.0000]],\n",
       "\n",
       "        [[ 0.0125,  0.3385, -0.3777,  ...,  0.0000,  0.0000,  0.0000],\n",
       "         [-0.3432,  0.4316, -0.0857,  ...,  0.0000,  0.0000,  0.0000],\n",
       "         [-0.1950,  0.4666, -0.0921,  ...,  0.0000,  0.0000,  0.0000],\n",
       "         ...,\n",
       "         [ 0.0949,  0.4146,  0.0028,  ...,  0.0000,  0.0000,  0.0000],\n",
       "         [ 0.0126,  0.4093,  0.0888,  ...,  0.0000,  0.0000,  0.0000],\n",
       "         [ 0.2025,  0.4091, -0.0450,  ...,  0.0000,  0.0000,  0.0000]]],\n",
       "       grad_fn=<CatBackward0>)"
      ]
     },
     "execution_count": 81,
     "metadata": {},
     "output_type": "execute_result"
    }
   ],
   "source": [
    "concat = torch.concat((c, pad), dim=-1)\n",
    "concat"
   ]
  },
  {
   "cell_type": "code",
   "execution_count": 64,
   "id": "ee748a79",
   "metadata": {},
   "outputs": [
    {
     "data": {
      "text/plain": [
       "torch.Size([16, 20, 512])"
      ]
     },
     "execution_count": 64,
     "metadata": {},
     "output_type": "execute_result"
    }
   ],
   "source": [
    "c_h = c2hidden(concat)\n",
    "c_h.size()"
   ]
  },
  {
   "cell_type": "code",
   "execution_count": null,
   "id": "8f98219c",
   "metadata": {},
   "outputs": [],
   "source": []
  },
  {
   "cell_type": "code",
   "execution_count": null,
   "id": "057ba7a3",
   "metadata": {},
   "outputs": [],
   "source": []
  }
 ],
 "metadata": {
  "kernelspec": {
   "display_name": "Python 3",
   "language": "python",
   "name": "python3"
  },
  "language_info": {
   "codemirror_mode": {
    "name": "ipython",
    "version": 3
   },
   "file_extension": ".py",
   "mimetype": "text/x-python",
   "name": "python",
   "nbconvert_exporter": "python",
   "pygments_lexer": "ipython3",
   "version": "3.8.8"
  }
 },
 "nbformat": 4,
 "nbformat_minor": 5
}
