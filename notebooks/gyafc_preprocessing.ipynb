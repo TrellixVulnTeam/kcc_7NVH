{
 "cells": [
  {
   "cell_type": "code",
   "execution_count": 1,
   "id": "ec5d37a1",
   "metadata": {},
   "outputs": [],
   "source": [
    "import pandas as pd\n",
    "import tokenizers\n",
    "import glob\n",
    "import os\n",
    "import pickle\n",
    "\n",
    "import torch\n",
    "from torch.utils.data import Dataset, DataLoader\n",
    "\n",
    "import sentencepiece as spm"
   ]
  },
  {
   "cell_type": "markdown",
   "id": "f0f8ae21",
   "metadata": {},
   "source": [
    "## Make spm model of each data"
   ]
  },
  {
   "cell_type": "code",
   "execution_count": 40,
   "id": "f86ac990",
   "metadata": {},
   "outputs": [
    {
     "name": "stdout",
     "output_type": "stream",
     "text": [
      "Train Compelte: train em_formal model & vocab\n",
      "Make Complete: train em_formal tokenized data\n",
      "Train Compelte: train em_informal model & vocab\n",
      "Make Complete: train em_informal tokenized data\n",
      "Train Compelte: test em_formal model & vocab\n",
      "Make Complete: test em_formal tokenized data\n",
      "Train Compelte: test em_informal model & vocab\n",
      "Make Complete: test em_informal tokenized data\n",
      "Train Compelte: train pair_eng model & vocab\n",
      "Make Complete: train pair_eng tokenized data\n",
      "Train Compelte: train pair_kor model & vocab\n",
      "Make Complete: train pair_kor tokenized data\n",
      "Train Compelte: test pair_eng model & vocab\n",
      "Make Complete: test pair_eng tokenized data\n",
      "Train Compelte: test pair_kor model & vocab\n",
      "Make Complete: test pair_kor tokenized data\n",
      "Saving Tokenized Data is Done!\n"
     ]
    }
   ],
   "source": [
    "tokenized_data = {}\n",
    "tokenized_data['train'] = {}\n",
    "tokenized_data['test'] = {}\n",
    "for name in [\"gyafc\", \"korpora\"]:\n",
    "    for data_type in [\"train\", \"test\"]:\n",
    "        files = glob.glob(f\"../data/processed/raw/{name}/*{data_type}.txt\")\n",
    "\n",
    "\n",
    "        parameter = '--input={} \\\n",
    "        --pad_id={} --pad_piece={} \\\n",
    "        --bos_id={} --bos_piece={} \\\n",
    "        --eos_id={} --eos_piece={} \\\n",
    "        --unk_id={} --unk_piece={} \\\n",
    "        --user_defined_symbols={} \\\n",
    "        --model_prefix={} \\\n",
    "        --vocab_size={} \\\n",
    "        --max_sentence_length={} \\\n",
    "        --character_coverage={} \\\n",
    "        --model_type={}'\n",
    "\n",
    "\n",
    "        pad_id = 0\n",
    "        pad_piece = \"[PAD]\"\n",
    "        bos_id = 1\n",
    "        bos_piece = \"[BOS]\"\n",
    "        eos_id = 2\n",
    "        eos_piece = \"[EOS]\"\n",
    "        unk_id = 3\n",
    "        unk_piece = \"[UNK]\"\n",
    "        user_defined_symbols = \"[SEP],[CLS],[MASK]\"\n",
    "        vocab_size = 5000\n",
    "        max_sentence_length = 300\n",
    "        character_coverage = 1.0 # default \n",
    "        model_type = 'bpe' # default: unigram\n",
    "\n",
    "\n",
    "        for train_input_file in files:\n",
    "            if \"fr\" in train_input_file:\n",
    "                continue\n",
    "            if 'kor_' in train_input_file:\n",
    "                character_coverage = 0.9995\n",
    "                vocab_size = 16000\n",
    "                \n",
    "            prefix = ((\"_\").join(train_input_file.split(\"\\\\\")[-1].split(\"_\")[:-1]))                       \n",
    "            model_prefix = f'../data/tokenizer/{data_type}_{prefix}_spm_bpe'\n",
    "\n",
    "            cmd = parameter.format(train_input_file, \n",
    "                                   pad_id, pad_piece,\n",
    "                                   bos_id, bos_piece, \n",
    "                                   eos_id, eos_piece, \n",
    "                                   unk_id, unk_piece,\n",
    "                                   user_defined_symbols,\n",
    "                                   model_prefix,\n",
    "                                   vocab_size,\n",
    "                                   max_sentence_length,\n",
    "                                   character_coverage,\n",
    "                                   model_type)\n",
    "            spm.SentencePieceProcessor()\n",
    "            spm.SentencePieceTrainer.Train(cmd)\n",
    "            print(f\"Train Compelte: {data_type} {prefix} model & vocab\")\n",
    "\n",
    "            sp = spm.SentencePieceProcessor()\n",
    "            sp.Load(f\"{model_prefix}.model\")\n",
    "\n",
    "            # BOS, EOS 추가\n",
    "            sp.SetEncodeExtraOptions('bos:eos')\n",
    "\n",
    "            # Tokenization And Padding\n",
    "            with open(train_input_file, \"r\", encoding=\"utf-8\") as f:\n",
    "                tokenized_data[data_type][prefix] = [sp.EncodeAsIds(line) for line in f]\n",
    "                print(f\"Make Complete: {data_type} {prefix} tokenized data\")\n",
    "\n",
    "\n",
    "# Save Data\n",
    "processed_path = f\"../data/processed/tokenized/{data_type}_{prefix}_spm_bpe.pkl\"\n",
    "with open(processed_path, 'wb') as file:\n",
    "    pickle.dump(tokenized_data, file)\n",
    "print(\"Saving Tokenized Data is Done!\")"
   ]
  },
  {
   "cell_type": "code",
   "execution_count": 32,
   "id": "ab865cb0",
   "metadata": {},
   "outputs": [],
   "source": [
    "sp = spm.SentencePieceProcessor()\n",
    "spm_dir = \"../data/tokenizer\"\n",
    "src_lang_model = sp.Load(os.path.join(spm_dir, \"train_em_informal_spm.model\"))"
   ]
  },
  {
   "cell_type": "code",
   "execution_count": null,
   "id": "64826df7",
   "metadata": {},
   "outputs": [],
   "source": [
    "sp."
   ]
  },
  {
   "cell_type": "code",
   "execution_count": 27,
   "id": "3f18f4d2",
   "metadata": {},
   "outputs": [
    {
     "data": {
      "text/plain": [
       "['[BOS]',\n",
       " '▁',\n",
       " 'Ma',\n",
       " 'ke',\n",
       " '▁Co',\n",
       " 'm',\n",
       " 'p',\n",
       " 'l',\n",
       " 'e',\n",
       " 't',\n",
       " 'e',\n",
       " ':',\n",
       " '▁',\n",
       " 't',\n",
       " 'ra',\n",
       " 'in',\n",
       " '▁',\n",
       " 'p',\n",
       " 'a',\n",
       " 'i',\n",
       " 'r',\n",
       " '_',\n",
       " 'k',\n",
       " 'or',\n",
       " '▁to',\n",
       " 'ke',\n",
       " 'n',\n",
       " 'i',\n",
       " 'z',\n",
       " 'ed',\n",
       " '▁',\n",
       " 'd',\n",
       " 'a',\n",
       " 't',\n",
       " 'a',\n",
       " '[EOS]']"
      ]
     },
     "execution_count": 27,
     "metadata": {},
     "output_type": "execute_result"
    }
   ],
   "source": [
    "# [sp.Encode(\"Make Complete: train pair_kor tokenized data\")]\n",
    "sp.EncodeAsPieces(\"Make Complete: train pair_kor tokenized data\")"
   ]
  },
  {
   "cell_type": "code",
   "execution_count": 29,
   "id": "19d00e06",
   "metadata": {},
   "outputs": [],
   "source": [
    "import pandas as pf"
   ]
  },
  {
   "cell_type": "code",
   "execution_count": null,
   "id": "1b500e9b",
   "metadata": {},
   "outputs": [],
   "source": []
  }
 ],
 "metadata": {
  "kernelspec": {
   "display_name": "Python 3",
   "language": "python",
   "name": "python3"
  },
  "language_info": {
   "codemirror_mode": {
    "name": "ipython",
    "version": 3
   },
   "file_extension": ".py",
   "mimetype": "text/x-python",
   "name": "python",
   "nbconvert_exporter": "python",
   "pygments_lexer": "ipython3",
   "version": "3.8.8"
  }
 },
 "nbformat": 4,
 "nbformat_minor": 5
}
