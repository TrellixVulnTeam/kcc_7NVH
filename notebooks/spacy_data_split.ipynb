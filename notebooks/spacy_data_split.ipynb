{
 "cells": [
  {
   "cell_type": "code",
   "execution_count": 1,
   "metadata": {},
   "outputs": [],
   "source": [
    "import pandas as pd"
   ]
  },
  {
   "cell_type": "markdown",
   "metadata": {},
   "source": [
    "## GYAFC"
   ]
  },
  {
   "cell_type": "code",
   "execution_count": 71,
   "metadata": {
    "scrolled": true
   },
   "outputs": [],
   "source": [
    "em_informal_df = pd.read_fwf(\"../data/informal_em_train.txt\", header=None)\n",
    "em_informal_df.to_csv(\"../.data/gyafc/em_informal.csv\", index=False, header=None)\n",
    "em_informal = list(em_informal_df[0])\n",
    "\n",
    "em_formal_df = pd.read_fwf(\"../data/formal_em_train.txt\", header=None)\n",
    "em_formal_df.to_csv(\"../.data/gyafc/em_formal.csv\", index=False, header=None)\n",
    "em_formal = list(em_formal_df[0])"
   ]
  },
  {
   "cell_type": "code",
   "execution_count": 72,
   "metadata": {},
   "outputs": [],
   "source": [
    "em_informal_df[\"formal\"] = em_formal_df\n",
    "em_informal_df.columns = [\"informal\", \"formal\"]\n",
    "em_informal_df.to_csv(\"../.data/gyafc/em_whole.csv\", index=False, header=None)"
   ]
  },
  {
   "cell_type": "code",
   "execution_count": 73,
   "metadata": {},
   "outputs": [
    {
     "data": {
      "text/plain": [
       "(52595, 52595)"
      ]
     },
     "execution_count": 73,
     "metadata": {},
     "output_type": "execute_result"
    }
   ],
   "source": [
    "len(em_formal), len(em_informal)"
   ]
  },
  {
   "cell_type": "code",
   "execution_count": 74,
   "metadata": {},
   "outputs": [],
   "source": [
    "train_ratio = 0.7\n",
    "valid_ratio = 0.2\n",
    "\n",
    "em_informal_train = em_informal[:int(len(em_informal)*train_ratio)]\n",
    "em_informal_valid = em_informal[int(len(em_informal)*train_ratio):int(len(em_informal)*(train_ratio+valid_ratio))]\n",
    "em_informal_test = em_informal[int(len(em_informal)*(train_ratio+valid_ratio)):]\n",
    "\n",
    "em_formal_train = em_formal[:int(len(em_formal)*train_ratio)]\n",
    "em_formal_valid = em_formal[int(len(em_formal)*train_ratio):int(len(em_formal)*(train_ratio+valid_ratio))]\n",
    "em_formal_test = em_formal[int(len(em_formal)*(train_ratio+valid_ratio)):]"
   ]
  },
  {
   "cell_type": "code",
   "execution_count": 75,
   "metadata": {},
   "outputs": [
    {
     "name": "stdout",
     "output_type": "stream",
     "text": [
      "36816 10519 5260\n",
      "36816 10519 5260\n"
     ]
    }
   ],
   "source": [
    "print(len(em_informal_train), len(em_informal_valid), len(em_informal_test))\n",
    "print(len(em_formal_train), len(em_formal_valid), len(em_formal_test))"
   ]
  },
  {
   "cell_type": "code",
   "execution_count": 76,
   "metadata": {},
   "outputs": [],
   "source": [
    "# tmp = pd.DataFrame(em_formal_valid)\n",
    "# tmp.to_csv(\"../.data/gyafc/em_formal_valid.csv\", index=False, header=None)"
   ]
  },
  {
   "cell_type": "code",
   "execution_count": 77,
   "metadata": {},
   "outputs": [],
   "source": [
    "train_df = pd.DataFrame({\"informal\":em_informal_train, \"formal\":em_formal_train})\n",
    "train_df.to_csv(\"../.data/gyafc/train.csv\", index=False, header=None)"
   ]
  },
  {
   "cell_type": "code",
   "execution_count": 78,
   "metadata": {},
   "outputs": [],
   "source": [
    "valid_df = pd.DataFrame({\"informal\":em_informal_valid, \"formal\":em_formal_valid})\n",
    "valid_df.to_csv(\"../.data/gyafc/valid.csv\", index=False, header=None)"
   ]
  },
  {
   "cell_type": "code",
   "execution_count": 79,
   "metadata": {},
   "outputs": [],
   "source": [
    "test_df = pd.DataFrame({\"informal\":em_informal_test, \"formal\":em_formal_test})\n",
    "test_df.to_csv(\"../.data/gyafc/test.csv\", index=False, header=None)"
   ]
  },
  {
   "cell_type": "markdown",
   "metadata": {},
   "source": [
    "## Korpora"
   ]
  },
  {
   "cell_type": "code",
   "execution_count": 39,
   "metadata": {},
   "outputs": [],
   "source": [
    "pair_kor_df = pd.read_fwf(\"../data/processed/raw/korpora/pair_kor_train.txt\", header=None)\n",
    "pair_kor_df = pair_kor_df[[0]] #94123\n",
    "pair_kor_df.to_csv(\"../.data/korpora/pair_kor.csv\", encoding=\"UTF-8\", index=False, header=None)\n",
    "pair_kor = list(pair_kor_df[0])\n",
    "\n",
    "pair_eng_df = pd.read_fwf(\"../data/processed/raw/korpora/pair_eng_train.txt\", header=None)\n",
    "pair_eng_df = pair_eng_df[[0]] #94123\n",
    "pair_eng_df.to_csv(\"../.data/korpora/pair_eng.csv\", encoding=\"UTF-8\", index=False, header=None)\n",
    "pair_eng = list(pair_eng_df[0])\n",
    "\n",
    "# pair_kor_test_df = pd.read_fwf(\"../data/processed/raw/korpora/pair_kor_test.txt\", header=None)\n",
    "# pair_kor_test_df = pair_kor_test_df[[0]] #2000\n",
    "# pair_kor_test_df.to_csv(\"../.data/korpora/pair_kor_test.csv\", encoding=\"UTF-8\", index=False, header=None)\n",
    "# pair_kor_test = list(pair_kor_test_df[0])\n",
    "\n",
    "# pair_eng_test_df = pd.read_fwf(\"../data/processed/raw/korpora/pair_eng_test.txt\", header=None)\n",
    "# pair_eng_test_df = pair_eng_test_df[[0]] #2000\n",
    "# pair_eng_test_df.to_csv(\"../.data/korpora/pair_eng_tset.csv\", encoding=\"UTF-8\", index=False, header=None)\n",
    "# pair_eng_test = list(pair_eng_test_df[0])"
   ]
  },
  {
   "cell_type": "code",
   "execution_count": 40,
   "metadata": {},
   "outputs": [],
   "source": [
    "train_ratio = 0.7\n",
    "valid_ratio = 0.2\n",
    "\n",
    "pair_kor_train = pair_kor[:int(len(pair_kor)*train_ratio)]\n",
    "pair_kor_valid = pair_kor[int(len(pair_kor)*train_ratio):int(len(pair_kor)*(train_ratio+valid_ratio))]\n",
    "pair_kor_test = pair_kor[int(len(pair_kor)*(train_ratio+valid_ratio)):]\n",
    "# em_informal_test = pair_kor[int(len(pair_kor)*(train_ratio+valid_ratio)):]\n",
    "\n",
    "pair_eng_train = pair_eng[:int(len(pair_eng)*train_ratio)]\n",
    "pair_eng_valid = pair_eng[int(len(pair_eng)*train_ratio):int(len(pair_eng)*(train_ratio+valid_ratio))]\n",
    "pair_eng_test = pair_eng[int(len(pair_eng)*(train_ratio+valid_ratio)):]\n",
    "# pair_eng_test = pair_eng[int(len(pair_eng)*(train_ratio+valid_ratio)):]"
   ]
  },
  {
   "cell_type": "code",
   "execution_count": 41,
   "metadata": {},
   "outputs": [
    {
     "name": "stdout",
     "output_type": "stream",
     "text": [
      "65886 18824 9413\n",
      "65886 18824 9413\n"
     ]
    }
   ],
   "source": [
    "print(len(pair_kor_train), len(pair_kor_valid), len(pair_kor_test))\n",
    "print(len(pair_eng_train), len(pair_eng_valid), len(pair_eng_test))"
   ]
  },
  {
   "cell_type": "code",
   "execution_count": 42,
   "metadata": {},
   "outputs": [],
   "source": [
    "train_df = pd.DataFrame({\"eng\":pair_eng_train, \"kor\":pair_kor_train})\n",
    "train_df.to_csv(\"../.data/korpora/train.csv\", index=False, header=None)"
   ]
  },
  {
   "cell_type": "code",
   "execution_count": 43,
   "metadata": {},
   "outputs": [],
   "source": [
    "valid_df = pd.DataFrame({\"eng\":pair_eng_valid, \"kor\":pair_kor_valid})\n",
    "valid_df.to_csv(\"../.data/korpora/valid.csv\", index=False, header=None)"
   ]
  },
  {
   "cell_type": "code",
   "execution_count": 44,
   "metadata": {},
   "outputs": [],
   "source": [
    "test_df = pd.DataFrame({\"eng\":pair_eng_test, \"kor\":pair_kor_test})\n",
    "test_df.to_csv(\"../.data/korpora/test.csv\", index=False, header=None)"
   ]
  },
  {
   "cell_type": "markdown",
   "metadata": {},
   "source": [
    "## AI Hub"
   ]
  },
  {
   "cell_type": "code",
   "execution_count": 5,
   "metadata": {},
   "outputs": [],
   "source": [
    "kor_df = pd.read_fwf(\"../data/processed/raw/ai_hub/total_kor_train.txt\", header=None)\n",
    "kor_df\n",
    "# kor_df.to_csv(\"../.data/aihub/kor.csv\", encoding=\"UTF-8\", index=False, header=None)\n",
    "kor = list(kor_df[0])\n",
    "\n",
    "eng_df = pd.read_fwf(\"../data/processed/raw/ai_hub/total_eng_train.txt\", header=None)\n",
    "eng_df\n",
    "# eng_df.to_csv(\"../.data/aihub/eng.csv\", encoding=\"UTF-8\", index=False, header=None)\n",
    "eng = list(eng_df[0])"
   ]
  },
  {
   "cell_type": "code",
   "execution_count": 6,
   "metadata": {},
   "outputs": [],
   "source": [
    "train_ratio = 0.7\n",
    "valid_ratio = 0.2\n",
    "\n",
    "kor_train = kor[:int(len(kor)*train_ratio)]\n",
    "kor_valid = kor[int(len(kor)*train_ratio):int(len(kor)*(train_ratio+valid_ratio))]\n",
    "kor_test = kor[int(len(kor)*(train_ratio+valid_ratio)):]\n",
    "\n",
    "eng_train = eng[:int(len(kor)*train_ratio)]\n",
    "eng_valid = eng[int(len(kor)*train_ratio):int(len(eng)*(train_ratio+valid_ratio))]\n",
    "eng_test = eng[int(len(kor)*(train_ratio+valid_ratio)):]"
   ]
  },
  {
   "cell_type": "code",
   "execution_count": 7,
   "metadata": {},
   "outputs": [
    {
     "name": "stdout",
     "output_type": "stream",
     "text": [
      "210007 60002 30002\n",
      "210007 60002 30002\n"
     ]
    }
   ],
   "source": [
    "print(len(kor_train), len(kor_valid), len(kor_test))\n",
    "print(len(eng_train), len(eng_valid), len(eng_test))"
   ]
  },
  {
   "cell_type": "code",
   "execution_count": 8,
   "metadata": {},
   "outputs": [],
   "source": [
    "train_df = pd.DataFrame({\"eng\":eng_train, \"kor\":kor_train})\n",
    "# train_df.to_csv(\"../.data/aihub/train.csv\", index=False, header=None)"
   ]
  },
  {
   "cell_type": "code",
   "execution_count": 9,
   "metadata": {},
   "outputs": [],
   "source": [
    "valid_df = pd.DataFrame({\"eng\":eng_valid, \"kor\":kor_valid})\n",
    "# valid_df.to_csv(\"../.data/aihub/valid.csv\", index=False, header=None)"
   ]
  },
  {
   "cell_type": "code",
   "execution_count": 17,
   "metadata": {},
   "outputs": [],
   "source": [
    "test_df = pd.DataFrame({\"eng\":eng_test, \"kor\":kor_test})\n",
    "test_df.to_csv(\"../.data/aihub/test.csv\", index=False, header=None)"
   ]
  },
  {
   "cell_type": "code",
   "execution_count": 13,
   "metadata": {},
   "outputs": [],
   "source": [
    "kor_3000_test = kor_test[:3000]\n",
    "eng_3000_test = eng_test[:3000]"
   ]
  },
  {
   "cell_type": "code",
   "execution_count": 14,
   "metadata": {},
   "outputs": [],
   "source": [
    "test_3000_df = pd.DataFrame({\"eng\":eng_3000_test, \"kor\":kor_3000_test})\n",
    "test_3000_df.to_csv(\"../.data/aihub/test_3000.csv\", index=False, header=None)"
   ]
  },
  {
   "cell_type": "code",
   "execution_count": 16,
   "metadata": {},
   "outputs": [],
   "source": [
    "with open(\"../data/processed/raw/ai_hub/kor_test.txt\", \"w\", encoding=\"utf-8\") as f:\n",
    "    for line in kor_3000_test:\n",
    "#         print(line)\n",
    "        f.write(f\"{line}\\n\")\n"
   ]
  },
  {
   "cell_type": "code",
   "execution_count": 18,
   "metadata": {},
   "outputs": [],
   "source": [
    "with open(\"../data/processed/raw/ai_hub/kor_test.txt\", \"w\", encoding=\"utf-8\") as f:\n",
    "    for line in kor_test:\n",
    "#         print(line)\n",
    "        f.write(f\"{line}\\n\")"
   ]
  },
  {
   "cell_type": "markdown",
   "metadata": {},
   "source": [
    "## Korean - hate"
   ]
  },
  {
   "cell_type": "code",
   "execution_count": 146,
   "metadata": {},
   "outputs": [
    {
     "name": "stdout",
     "output_type": "stream",
     "text": [
      "7896\n"
     ]
    }
   ],
   "source": [
    "# hate_df = pd.read_csv(\"../../korean/train.hate.csv\", header=None)\n",
    "# hate_df = hate_df.iloc[1:, 0]\n",
    "# hate_df = hate_df.sample(frac=1).reset_index(drop=True) # shuffle\n",
    "# # hate_df\n",
    "# hate_df.to_csv(r\"../../korean/hate.txt\", header=None, index=None, sep=' ')\n",
    "# hate = list(hate_df)\n",
    "# # hate\n",
    "# print(len(hate))"
   ]
  },
  {
   "cell_type": "code",
   "execution_count": 149,
   "metadata": {},
   "outputs": [
    {
     "name": "stdout",
     "output_type": "stream",
     "text": [
      "5527 1579 790\n"
     ]
    }
   ],
   "source": [
    "train_ratio = 0.7\n",
    "valid_ratio = 0.2\n",
    "\n",
    "hate_train = hate[:int(len(hate)*train_ratio)]\n",
    "hate_valid = hate[int(len(hate)*train_ratio):int(len(hate)*(train_ratio+valid_ratio))]\n",
    "hate_test = hate[int(len(hate)*(train_ratio+valid_ratio)):]\n",
    "\n",
    "print(len(hate_train), len(hate_valid), len(hate_test))"
   ]
  },
  {
   "cell_type": "code",
   "execution_count": 150,
   "metadata": {},
   "outputs": [],
   "source": [
    "train_df = pd.DataFrame({\"src\":hate_train, \"trg\":hate_train})\n",
    "train_df.to_csv(\"../../korean/hate/train.csv\", index=False, header=None)"
   ]
  },
  {
   "cell_type": "code",
   "execution_count": 151,
   "metadata": {},
   "outputs": [],
   "source": [
    "valid_df = pd.DataFrame({\"src\":hate_valid, \"trg\":hate_valid})\n",
    "valid_df.to_csv(\"../../korean/hate/valid.csv\", index=False, header=None)"
   ]
  },
  {
   "cell_type": "code",
   "execution_count": 152,
   "metadata": {},
   "outputs": [],
   "source": [
    "test_df = pd.DataFrame({\"src\":hate_test, \"trg\":hate_test})\n",
    "test_df.to_csv(\"../../korean/hate/test.csv\", index=False, header=None)"
   ]
  },
  {
   "cell_type": "code",
   "execution_count": 153,
   "metadata": {},
   "outputs": [
    {
     "data": {
      "text/plain": [
       "135"
      ]
     },
     "execution_count": 153,
     "metadata": {},
     "output_type": "execute_result"
    }
   ],
   "source": [
    "hate_df.str.len().max()"
   ]
  },
  {
   "cell_type": "markdown",
   "metadata": {},
   "source": [
    "## Korean - naver"
   ]
  },
  {
   "cell_type": "code",
   "execution_count": 142,
   "metadata": {},
   "outputs": [],
   "source": [
    "naver_df = pd.read_csv(\"../../korean/ratings_train.txt\", sep='\\t', quoting=3)\n",
    "naver_df = naver_df[['document']]\n",
    "naver_df[['document1']] = naver_df[['document']]\n",
    "naver_df.to_csv(\"../../korean/naver.csv\", encoding=\"UTF-8\", index=False, header=None)\n",
    "naver_df.to_csv(r\"../../korean/naver.txt\", header=None, index=None, sep=' ')\n",
    "naver = naver_df['document'].values.tolist()\n",
    "# naver\n",
    "# print(len(naver))"
   ]
  },
  {
   "cell_type": "code",
   "execution_count": 119,
   "metadata": {},
   "outputs": [
    {
     "data": {
      "text/plain": [
       "158.0"
      ]
     },
     "execution_count": 119,
     "metadata": {},
     "output_type": "execute_result"
    }
   ],
   "source": [
    "naver_df['document'].str.len().max()"
   ]
  },
  {
   "cell_type": "code",
   "execution_count": 120,
   "metadata": {},
   "outputs": [
    {
     "name": "stdout",
     "output_type": "stream",
     "text": [
      "105000 30000 15000\n"
     ]
    }
   ],
   "source": [
    "train_ratio = 0.7\n",
    "valid_ratio = 0.2\n",
    "\n",
    "naver_train = naver[:int(len(naver)*train_ratio)]\n",
    "naver_valid = naver[int(len(naver)*train_ratio):int(len(naver)*(train_ratio+valid_ratio))]\n",
    "naver_test = naver[int(len(naver)*(train_ratio+valid_ratio)):]\n",
    "\n",
    "print(len(naver_train), len(naver_valid), len(naver_test))"
   ]
  },
  {
   "cell_type": "code",
   "execution_count": 121,
   "metadata": {},
   "outputs": [],
   "source": [
    "train_df = pd.DataFrame({\"src\":naver_train, \"trg\":naver_train})\n",
    "train_df.to_csv(\"../../korean/naver/train.csv\", index=False, header=None)"
   ]
  },
  {
   "cell_type": "code",
   "execution_count": 122,
   "metadata": {},
   "outputs": [],
   "source": [
    "valid_df = pd.DataFrame({\"src\":naver_valid, \"trg\":naver_valid})\n",
    "valid_df.to_csv(\"../../korean/naver/valid.csv\", index=False, header=None)"
   ]
  },
  {
   "cell_type": "code",
   "execution_count": 123,
   "metadata": {},
   "outputs": [],
   "source": [
    "test_df = pd.DataFrame({\"src\":naver_test, \"trg\":naver_test})\n",
    "test_df.to_csv(\"../../korean/naver/test.csv\", index=False, header=None)"
   ]
  }
 ],
 "metadata": {
  "kernelspec": {
   "display_name": "Python 3",
   "language": "python",
   "name": "python3"
  },
  "language_info": {
   "codemirror_mode": {
    "name": "ipython",
    "version": 3
   },
   "file_extension": ".py",
   "mimetype": "text/x-python",
   "name": "python",
   "nbconvert_exporter": "python",
   "pygments_lexer": "ipython3",
   "version": "3.7.4"
  }
 },
 "nbformat": 4,
 "nbformat_minor": 5
}
