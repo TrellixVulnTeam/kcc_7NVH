{
 "cells": [
  {
   "cell_type": "code",
   "execution_count": 4,
   "id": "08b7af76",
   "metadata": {},
   "outputs": [],
   "source": [
    "import pandas as pd"
   ]
  },
  {
   "cell_type": "markdown",
   "id": "51c9ceea",
   "metadata": {},
   "source": [
    "## GYAFC"
   ]
  },
  {
   "cell_type": "code",
   "execution_count": 71,
   "id": "9077ff48",
   "metadata": {
    "scrolled": true
   },
   "outputs": [],
   "source": [
    "em_informal_df = pd.read_fwf(\"../data/informal_em_train.txt\", header=None)\n",
    "em_informal_df.to_csv(\"../.data/gyafc/em_informal.csv\", index=False, header=None)\n",
    "em_informal = list(em_informal_df[0])\n",
    "\n",
    "em_formal_df = pd.read_fwf(\"../data/formal_em_train.txt\", header=None)\n",
    "em_formal_df.to_csv(\"../.data/gyafc/em_formal.csv\", index=False, header=None)\n",
    "em_formal = list(em_formal_df[0])"
   ]
  },
  {
   "cell_type": "code",
   "execution_count": 72,
   "id": "a2696371",
   "metadata": {},
   "outputs": [],
   "source": [
    "em_informal_df[\"formal\"] = em_formal_df\n",
    "em_informal_df.columns = [\"informal\", \"formal\"]\n",
    "em_informal_df.to_csv(\"../.data/gyafc/em_whole.csv\", index=False, header=None)"
   ]
  },
  {
   "cell_type": "code",
   "execution_count": 73,
   "id": "286b6e7e",
   "metadata": {},
   "outputs": [
    {
     "data": {
      "text/plain": [
       "(52595, 52595)"
      ]
     },
     "execution_count": 73,
     "metadata": {},
     "output_type": "execute_result"
    }
   ],
   "source": [
    "len(em_formal), len(em_informal)"
   ]
  },
  {
   "cell_type": "code",
   "execution_count": 74,
   "id": "c2b91377",
   "metadata": {},
   "outputs": [],
   "source": [
    "train_ratio = 0.7\n",
    "valid_ratio = 0.2\n",
    "\n",
    "em_informal_train = em_informal[:int(len(em_informal)*train_ratio)]\n",
    "em_informal_valid = em_informal[int(len(em_informal)*train_ratio):int(len(em_informal)*(train_ratio+valid_ratio))]\n",
    "em_informal_test = em_informal[int(len(em_informal)*(train_ratio+valid_ratio)):]\n",
    "\n",
    "em_formal_train = em_formal[:int(len(em_formal)*train_ratio)]\n",
    "em_formal_valid = em_formal[int(len(em_formal)*train_ratio):int(len(em_formal)*(train_ratio+valid_ratio))]\n",
    "em_formal_test = em_formal[int(len(em_formal)*(train_ratio+valid_ratio)):]"
   ]
  },
  {
   "cell_type": "code",
   "execution_count": 75,
   "id": "ed776e2e",
   "metadata": {},
   "outputs": [
    {
     "name": "stdout",
     "output_type": "stream",
     "text": [
      "36816 10519 5260\n",
      "36816 10519 5260\n"
     ]
    }
   ],
   "source": [
    "print(len(em_informal_train), len(em_informal_valid), len(em_informal_test))\n",
    "print(len(em_formal_train), len(em_formal_valid), len(em_formal_test))"
   ]
  },
  {
   "cell_type": "code",
   "execution_count": 76,
   "id": "48c6c90c",
   "metadata": {},
   "outputs": [],
   "source": [
    "# tmp = pd.DataFrame(em_formal_valid)\n",
    "# tmp.to_csv(\"../.data/gyafc/em_formal_valid.csv\", index=False, header=None)"
   ]
  },
  {
   "cell_type": "code",
   "execution_count": 77,
   "id": "d2fe162a",
   "metadata": {},
   "outputs": [],
   "source": [
    "train_df = pd.DataFrame({\"informal\":em_informal_train, \"formal\":em_formal_train})\n",
    "train_df.to_csv(\"../.data/gyafc/train.csv\", index=False, header=None)"
   ]
  },
  {
   "cell_type": "code",
   "execution_count": 78,
   "id": "a0608fdd",
   "metadata": {},
   "outputs": [],
   "source": [
    "valid_df = pd.DataFrame({\"informal\":em_informal_valid, \"formal\":em_formal_valid})\n",
    "valid_df.to_csv(\"../.data/gyafc/valid.csv\", index=False, header=None)"
   ]
  },
  {
   "cell_type": "code",
   "execution_count": 79,
   "id": "e7b5df36",
   "metadata": {},
   "outputs": [],
   "source": [
    "test_df = pd.DataFrame({\"informal\":em_informal_test, \"formal\":em_formal_test})\n",
    "test_df.to_csv(\"../.data/gyafc/test.csv\", index=False, header=None)"
   ]
  },
  {
   "cell_type": "markdown",
   "id": "2899f681",
   "metadata": {},
   "source": [
    "## Korpora"
   ]
  },
  {
   "cell_type": "code",
   "execution_count": 39,
   "id": "5b676077",
   "metadata": {},
   "outputs": [],
   "source": [
    "pair_kor_df = pd.read_fwf(\"../data/processed/raw/korpora/pair_kor_train.txt\", header=None)\n",
    "pair_kor_df = pair_kor_df[[0]] #94123\n",
    "pair_kor_df.to_csv(\"../.data/korpora/pair_kor.csv\", encoding=\"UTF-8\", index=False, header=None)\n",
    "pair_kor = list(pair_kor_df[0])\n",
    "\n",
    "pair_eng_df = pd.read_fwf(\"../data/processed/raw/korpora/pair_eng_train.txt\", header=None)\n",
    "pair_eng_df = pair_eng_df[[0]] #94123\n",
    "pair_eng_df.to_csv(\"../.data/korpora/pair_eng.csv\", encoding=\"UTF-8\", index=False, header=None)\n",
    "pair_eng = list(pair_eng_df[0])\n",
    "\n",
    "# pair_kor_test_df = pd.read_fwf(\"../data/processed/raw/korpora/pair_kor_test.txt\", header=None)\n",
    "# pair_kor_test_df = pair_kor_test_df[[0]] #2000\n",
    "# pair_kor_test_df.to_csv(\"../.data/korpora/pair_kor_test.csv\", encoding=\"UTF-8\", index=False, header=None)\n",
    "# pair_kor_test = list(pair_kor_test_df[0])\n",
    "\n",
    "# pair_eng_test_df = pd.read_fwf(\"../data/processed/raw/korpora/pair_eng_test.txt\", header=None)\n",
    "# pair_eng_test_df = pair_eng_test_df[[0]] #2000\n",
    "# pair_eng_test_df.to_csv(\"../.data/korpora/pair_eng_tset.csv\", encoding=\"UTF-8\", index=False, header=None)\n",
    "# pair_eng_test = list(pair_eng_test_df[0])"
   ]
  },
  {
   "cell_type": "code",
   "execution_count": 40,
   "id": "d9338e93",
   "metadata": {},
   "outputs": [],
   "source": [
    "train_ratio = 0.7\n",
    "valid_ratio = 0.2\n",
    "\n",
    "pair_kor_train = pair_kor[:int(len(pair_kor)*train_ratio)]\n",
    "pair_kor_valid = pair_kor[int(len(pair_kor)*train_ratio):int(len(pair_kor)*(train_ratio+valid_ratio))]\n",
    "pair_kor_test = pair_kor[int(len(pair_kor)*(train_ratio+valid_ratio)):]\n",
    "# em_informal_test = pair_kor[int(len(pair_kor)*(train_ratio+valid_ratio)):]\n",
    "\n",
    "pair_eng_train = pair_eng[:int(len(pair_eng)*train_ratio)]\n",
    "pair_eng_valid = pair_eng[int(len(pair_eng)*train_ratio):int(len(pair_eng)*(train_ratio+valid_ratio))]\n",
    "pair_eng_test = pair_eng[int(len(pair_eng)*(train_ratio+valid_ratio)):]\n",
    "# pair_eng_test = pair_eng[int(len(pair_eng)*(train_ratio+valid_ratio)):]"
   ]
  },
  {
   "cell_type": "code",
   "execution_count": 41,
   "id": "0cd8b3ee",
   "metadata": {},
   "outputs": [
    {
     "name": "stdout",
     "output_type": "stream",
     "text": [
      "65886 18824 9413\n",
      "65886 18824 9413\n"
     ]
    }
   ],
   "source": [
    "print(len(pair_kor_train), len(pair_kor_valid), len(pair_kor_test))\n",
    "print(len(pair_eng_train), len(pair_eng_valid), len(pair_eng_test))"
   ]
  },
  {
   "cell_type": "code",
   "execution_count": 42,
   "id": "01b2627d",
   "metadata": {},
   "outputs": [],
   "source": [
    "train_df = pd.DataFrame({\"eng\":pair_eng_train, \"kor\":pair_kor_train})\n",
    "train_df.to_csv(\"../.data/korpora/train.csv\", index=False, header=None)"
   ]
  },
  {
   "cell_type": "code",
   "execution_count": 43,
   "id": "6368f48f",
   "metadata": {},
   "outputs": [],
   "source": [
    "valid_df = pd.DataFrame({\"eng\":pair_eng_valid, \"kor\":pair_kor_valid})\n",
    "valid_df.to_csv(\"../.data/korpora/valid.csv\", index=False, header=None)"
   ]
  },
  {
   "cell_type": "code",
   "execution_count": 44,
   "id": "c6b8367a",
   "metadata": {},
   "outputs": [],
   "source": [
    "test_df = pd.DataFrame({\"eng\":pair_eng_test, \"kor\":pair_kor_test})\n",
    "test_df.to_csv(\"../.data/korpora/test.csv\", index=False, header=None)"
   ]
  },
  {
   "cell_type": "markdown",
   "id": "6b6a2364",
   "metadata": {},
   "source": [
    "## AI Hub"
   ]
  },
  {
   "cell_type": "code",
   "execution_count": 5,
   "id": "5cbb3e24",
   "metadata": {},
   "outputs": [],
   "source": [
    "kor_df = pd.read_fwf(\"../data/processed/raw/ai_hub/total_kor_train.txt\", header=None)\n",
    "kor_df\n",
    "# kor_df.to_csv(\"../.data/aihub/kor.csv\", encoding=\"UTF-8\", index=False, header=None)\n",
    "kor = list(kor_df[0])\n",
    "\n",
    "eng_df = pd.read_fwf(\"../data/processed/raw/ai_hub/total_eng_train.txt\", header=None)\n",
    "eng_df\n",
    "# eng_df.to_csv(\"../.data/aihub/eng.csv\", encoding=\"UTF-8\", index=False, header=None)\n",
    "eng = list(eng_df[0])"
   ]
  },
  {
   "cell_type": "code",
   "execution_count": 6,
   "id": "c6c8a236",
   "metadata": {},
   "outputs": [],
   "source": [
    "train_ratio = 0.7\n",
    "valid_ratio = 0.2\n",
    "\n",
    "kor_train = kor[:int(len(kor)*train_ratio)]\n",
    "kor_valid = kor[int(len(kor)*train_ratio):int(len(kor)*(train_ratio+valid_ratio))]\n",
    "kor_test = kor[int(len(kor)*(train_ratio+valid_ratio)):]\n",
    "\n",
    "eng_train = eng[:int(len(kor)*train_ratio)]\n",
    "eng_valid = eng[int(len(kor)*train_ratio):int(len(eng)*(train_ratio+valid_ratio))]\n",
    "eng_test = eng[int(len(kor)*(train_ratio+valid_ratio)):]"
   ]
  },
  {
   "cell_type": "code",
   "execution_count": 7,
   "id": "c11b5b81",
   "metadata": {},
   "outputs": [
    {
     "name": "stdout",
     "output_type": "stream",
     "text": [
      "210007 60002 30002\n",
      "210007 60002 30002\n"
     ]
    }
   ],
   "source": [
    "print(len(kor_train), len(kor_valid), len(kor_test))\n",
    "print(len(eng_train), len(eng_valid), len(eng_test))"
   ]
  },
  {
   "cell_type": "code",
   "execution_count": 8,
   "id": "5ed6daf8",
   "metadata": {},
   "outputs": [],
   "source": [
    "train_df = pd.DataFrame({\"eng\":eng_train, \"kor\":kor_train})\n",
    "# train_df.to_csv(\"../.data/aihub/train.csv\", index=False, header=None)"
   ]
  },
  {
   "cell_type": "code",
   "execution_count": 9,
   "id": "3ad9306f",
   "metadata": {},
   "outputs": [],
   "source": [
    "valid_df = pd.DataFrame({\"eng\":eng_valid, \"kor\":kor_valid})\n",
    "# valid_df.to_csv(\"../.data/aihub/valid.csv\", index=False, header=None)"
   ]
  },
  {
   "cell_type": "code",
   "execution_count": 17,
   "id": "7fa8c701",
   "metadata": {},
   "outputs": [],
   "source": [
    "test_df = pd.DataFrame({\"eng\":eng_test, \"kor\":kor_test})\n",
    "test_df.to_csv(\"../.data/aihub/test.csv\", index=False, header=None)"
   ]
  },
  {
   "cell_type": "code",
   "execution_count": 13,
   "id": "7837160d",
   "metadata": {},
   "outputs": [],
   "source": [
    "kor_3000_test = kor_test[:3000]\n",
    "eng_3000_test = eng_test[:3000]"
   ]
  },
  {
   "cell_type": "code",
   "execution_count": 14,
   "id": "b0d9a15c",
   "metadata": {},
   "outputs": [],
   "source": [
    "test_3000_df = pd.DataFrame({\"eng\":eng_3000_test, \"kor\":kor_3000_test})\n",
    "test_3000_df.to_csv(\"../.data/aihub/test_3000.csv\", index=False, header=None)"
   ]
  },
  {
   "cell_type": "code",
   "execution_count": 16,
   "id": "8c1c70d9",
   "metadata": {},
   "outputs": [],
   "source": [
    "with open(\"../data/processed/raw/ai_hub/kor_test.txt\", \"w\", encoding=\"utf-8\") as f:\n",
    "    for line in kor_3000_test:\n",
    "#         print(line)\n",
    "        f.write(f\"{line}\\n\")\n"
   ]
  },
  {
   "cell_type": "code",
   "execution_count": 18,
   "id": "d8065b5d",
   "metadata": {},
   "outputs": [],
   "source": [
    "with open(\"../data/processed/raw/ai_hub/kor_test.txt\", \"w\", encoding=\"utf-8\") as f:\n",
    "    for line in kor_test:\n",
    "#         print(line)\n",
    "        f.write(f\"{line}\\n\")"
   ]
  },
  {
   "cell_type": "code",
   "execution_count": null,
   "id": "d09ce2f9",
   "metadata": {},
   "outputs": [],
   "source": []
  }
 ],
 "metadata": {
  "kernelspec": {
   "display_name": "Python 3",
   "language": "python",
   "name": "python3"
  },
  "language_info": {
   "codemirror_mode": {
    "name": "ipython",
    "version": 3
   },
   "file_extension": ".py",
   "mimetype": "text/x-python",
   "name": "python",
   "nbconvert_exporter": "python",
   "pygments_lexer": "ipython3",
   "version": "3.8.8"
  }
 },
 "nbformat": 4,
 "nbformat_minor": 5
}
