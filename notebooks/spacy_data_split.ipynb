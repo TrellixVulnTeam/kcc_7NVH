{
 "cells": [
  {
   "cell_type": "code",
   "execution_count": 70,
   "id": "08b7af76",
   "metadata": {},
   "outputs": [],
   "source": [
    "import pandas as pd"
   ]
  },
  {
   "cell_type": "markdown",
   "id": "51c9ceea",
   "metadata": {},
   "source": [
    "## GYAFC"
   ]
  },
  {
   "cell_type": "code",
   "execution_count": 71,
   "id": "9077ff48",
   "metadata": {
    "scrolled": true
   },
   "outputs": [],
   "source": [
    "em_informal_df = pd.read_fwf(\"../data/informal_em_train.txt\", header=None)\n",
    "em_informal_df.to_csv(\"../.data/gyafc/em_informal.csv\", index=False, header=None)\n",
    "em_informal = list(em_informal_df[0])\n",
    "\n",
    "em_formal_df = pd.read_fwf(\"../data/formal_em_train.txt\", header=None)\n",
    "em_formal_df.to_csv(\"../.data/gyafc/em_formal.csv\", index=False, header=None)\n",
    "em_formal = list(em_formal_df[0])"
   ]
  },
  {
   "cell_type": "code",
   "execution_count": 72,
   "id": "a2696371",
   "metadata": {},
   "outputs": [],
   "source": [
    "em_informal_df[\"formal\"] = em_formal_df\n",
    "em_informal_df.columns = [\"informal\", \"formal\"]\n",
    "em_informal_df.to_csv(\"../.data/gyafc/em_whole.csv\", index=False, header=None)"
   ]
  },
  {
   "cell_type": "code",
   "execution_count": 73,
   "id": "286b6e7e",
   "metadata": {},
   "outputs": [
    {
     "data": {
      "text/plain": [
       "(52595, 52595)"
      ]
     },
     "execution_count": 73,
     "metadata": {},
     "output_type": "execute_result"
    }
   ],
   "source": [
    "len(em_formal), len(em_informal)"
   ]
  },
  {
   "cell_type": "code",
   "execution_count": 74,
   "id": "c2b91377",
   "metadata": {},
   "outputs": [],
   "source": [
    "train_ratio = 0.7\n",
    "valid_ratio = 0.2\n",
    "\n",
    "em_informal_train = em_informal[:int(len(em_informal)*train_ratio)]\n",
    "em_informal_valid = em_informal[int(len(em_informal)*train_ratio):int(len(em_informal)*(train_ratio+valid_ratio))]\n",
    "em_informal_test = em_informal[int(len(em_informal)*(train_ratio+valid_ratio)):]\n",
    "\n",
    "em_formal_train = em_formal[:int(len(em_formal)*train_ratio)]\n",
    "em_formal_valid = em_formal[int(len(em_formal)*train_ratio):int(len(em_formal)*(train_ratio+valid_ratio))]\n",
    "em_formal_test = em_formal[int(len(em_formal)*(train_ratio+valid_ratio)):]"
   ]
  },
  {
   "cell_type": "code",
   "execution_count": 75,
   "id": "ed776e2e",
   "metadata": {},
   "outputs": [
    {
     "name": "stdout",
     "output_type": "stream",
     "text": [
      "36816 10519 5260\n",
      "36816 10519 5260\n"
     ]
    }
   ],
   "source": [
    "print(len(em_informal_train), len(em_informal_valid), len(em_informal_test))\n",
    "print(len(em_formal_train), len(em_formal_valid), len(em_formal_test))"
   ]
  },
  {
   "cell_type": "code",
   "execution_count": 76,
   "id": "48c6c90c",
   "metadata": {},
   "outputs": [],
   "source": [
    "# tmp = pd.DataFrame(em_formal_valid)\n",
    "# tmp.to_csv(\"../.data/gyafc/em_formal_valid.csv\", index=False, header=None)"
   ]
  },
  {
   "cell_type": "code",
   "execution_count": 77,
   "id": "d2fe162a",
   "metadata": {},
   "outputs": [],
   "source": [
    "train_df = pd.DataFrame({\"informal\":em_informal_train, \"formal\":em_formal_train})\n",
    "train_df.to_csv(\"../.data/gyafc/train.csv\", index=False, header=None)"
   ]
  },
  {
   "cell_type": "code",
   "execution_count": 78,
   "id": "a0608fdd",
   "metadata": {},
   "outputs": [],
   "source": [
    "valid_df = pd.DataFrame({\"informal\":em_informal_valid, \"formal\":em_formal_valid})\n",
    "valid_df.to_csv(\"../.data/gyafc/valid.csv\", index=False, header=None)"
   ]
  },
  {
   "cell_type": "code",
   "execution_count": 79,
   "id": "e7b5df36",
   "metadata": {},
   "outputs": [],
   "source": [
    "test_df = pd.DataFrame({\"informal\":em_informal_test, \"formal\":em_formal_test})\n",
    "test_df.to_csv(\"../.data/gyafc/test.csv\", index=False, header=None)"
   ]
  },
  {
   "cell_type": "markdown",
   "id": "2899f681",
   "metadata": {},
   "source": [
    "## Korpora"
   ]
  },
  {
   "cell_type": "code",
   "execution_count": 122,
   "id": "5b676077",
   "metadata": {},
   "outputs": [],
   "source": [
    "pair_kor_df = pd.read_fwf(\"../data/processed/raw/korpora/pair_kor_train.txt\", header=None)\n",
    "pair_kor_df = pair_kor_df[[0]]\n",
    "pair_kor_df.to_csv(\"../_data/korpora/pair_kor.csv\", encoding=\"UTF-8\", index=False, header=None)\n",
    "pair_kor = list(pair_kor_df[0])\n",
    "\n",
    "pair_kor_test_df = pd.read_fwf(\"../data/processed/raw/korpora/pair_kor_test.txt\", header=None)\n",
    "pair_kor_test_df = pair_kor_test_df[[0]]\n",
    "pair_kor_test_df.to_csv(\"../_data/korpora/pair_kor_test.csv\", encoding=\"UTF-8\", index=False, header=None)\n",
    "pair_kor_test = list(pair_kor_test_df[0])\n",
    "\n",
    "pair_eng_test_df = pd.read_fwf(\"../data/processed/raw/korpora/pair_eng_test.txt\", header=None)\n",
    "pair_eng_test_df = pair_eng_test_df[[0]]\n",
    "pair_eng_test_df.to_csv(\"../_data/korpora/pair_eng_tset.csv\", encoding=\"UTF-8\", index=False, header=None)\n",
    "pair_eng_test = list(pair_eng_test_df[0])"
   ]
  },
  {
   "cell_type": "code",
   "execution_count": 123,
   "id": "d9338e93",
   "metadata": {},
   "outputs": [],
   "source": [
    "train_ratio = 0.8\n",
    "# valid_ratio = 0.2\n",
    "\n",
    "pair_kor_train = pair_kor[:int(len(pair_kor)*train_ratio)]\n",
    "pair_kor_valid = pair_kor[int(len(pair_kor)*train_ratio):]\n",
    "# em_informal_test = pair_kor[int(len(pair_kor)*(train_ratio+valid_ratio)):]\n",
    "\n",
    "pair_eng_train = pair_eng[:int(len(pair_eng)*train_ratio)]\n",
    "pair_eng_valid = pair_eng[int(len(pair_eng)*train_ratio):]\n",
    "# pair_eng_test = pair_eng[int(len(pair_eng)*(train_ratio+valid_ratio)):]"
   ]
  },
  {
   "cell_type": "code",
   "execution_count": 127,
   "id": "0cd8b3ee",
   "metadata": {},
   "outputs": [
    {
     "name": "stdout",
     "output_type": "stream",
     "text": [
      "75298 18825 2000\n",
      "75298 18825 2000\n"
     ]
    }
   ],
   "source": [
    "print(len(pair_kor_train), len(pair_kor_valid), len(pair_kor_test))\n",
    "print(len(pair_eng_train), len(pair_eng_valid), len(pair_eng_test))"
   ]
  },
  {
   "cell_type": "code",
   "execution_count": 128,
   "id": "01b2627d",
   "metadata": {},
   "outputs": [],
   "source": [
    "train_df = pd.DataFrame({\"eng\":pair_eng_train, \"kor\":pair_kor_train})\n",
    "train_df.to_csv(\"../_data/korpora/train.csv\", index=False, header=None)"
   ]
  },
  {
   "cell_type": "code",
   "execution_count": 129,
   "id": "6368f48f",
   "metadata": {},
   "outputs": [],
   "source": [
    "valid_df = pd.DataFrame({\"eng\":pair_eng_valid, \"kor\":pair_kor_valid})\n",
    "valid_df.to_csv(\"../_data/korpora/valid.csv\", index=False, header=None)"
   ]
  },
  {
   "cell_type": "code",
   "execution_count": 130,
   "id": "c6b8367a",
   "metadata": {},
   "outputs": [],
   "source": [
    "test_df = pd.DataFrame({\"eng\":pair_eng_test, \"kor\":pair_kor_test})\n",
    "test_df.to_csv(\"../_data/korpora/test.csv\", index=False, header=None)"
   ]
  },
  {
   "cell_type": "code",
   "execution_count": 132,
   "id": "96279e9f",
   "metadata": {},
   "outputs": [
    {
     "name": "stdout",
     "output_type": "stream",
     "text": [
      "Collecting konlpy\n",
      "  Downloading konlpy-0.6.0-py2.py3-none-any.whl (19.4 MB)\n",
      "     --------------------------------------- 19.4/19.4 MB 11.1 MB/s eta 0:00:00\n",
      "Requirement already satisfied: lxml>=4.1.0 in c:\\users\\yehoon\\anaconda3\\lib\\site-packages (from konlpy) (4.6.3)\n",
      "Collecting JPype1>=0.7.0\n",
      "  Downloading JPype1-1.3.0-cp38-cp38-win_amd64.whl (362 kB)\n",
      "     -------------------------------------- 362.6/362.6 KB 7.7 MB/s eta 0:00:00\n",
      "Requirement already satisfied: numpy>=1.6 in c:\\users\\yehoon\\anaconda3\\lib\\site-packages (from konlpy) (1.20.1)\n",
      "Installing collected packages: JPype1, konlpy\n",
      "Successfully installed JPype1-1.3.0 konlpy-0.6.0\n"
     ]
    },
    {
     "name": "stderr",
     "output_type": "stream",
     "text": [
      "WARNING: Ignoring invalid distribution -orch (c:\\users\\yehoon\\anaconda3\\lib\\site-packages)\n",
      "WARNING: Ignoring invalid distribution -orch (c:\\users\\yehoon\\anaconda3\\lib\\site-packages)\n",
      "WARNING: Ignoring invalid distribution -orch (c:\\users\\yehoon\\anaconda3\\lib\\site-packages)\n",
      "WARNING: Ignoring invalid distribution -orch (c:\\users\\yehoon\\anaconda3\\lib\\site-packages)\n",
      "WARNING: Ignoring invalid distribution -orch (c:\\users\\yehoon\\anaconda3\\lib\\site-packages)\n",
      "WARNING: Ignoring invalid distribution -orch (c:\\users\\yehoon\\anaconda3\\lib\\site-packages)\n",
      "WARNING: Ignoring invalid distribution -orch (c:\\users\\yehoon\\anaconda3\\lib\\site-packages)\n",
      "WARNING: Ignoring invalid distribution -orch (c:\\users\\yehoon\\anaconda3\\lib\\site-packages)\n",
      "WARNING: You are using pip version 22.0.3; however, version 22.0.4 is available.\n",
      "You should consider upgrading via the 'C:\\Users\\YEHOON\\anaconda3\\python.exe -m pip install --upgrade pip' command.\n"
     ]
    }
   ],
   "source": [
    "!pip install konlpy"
   ]
  },
  {
   "cell_type": "code",
   "execution_count": 133,
   "id": "8c2149c3",
   "metadata": {},
   "outputs": [],
   "source": [
    "from konlpy.tag import Mecab"
   ]
  },
  {
   "cell_type": "code",
   "execution_count": 134,
   "id": "82822b9b",
   "metadata": {},
   "outputs": [
    {
     "ename": "Exception",
     "evalue": "Install MeCab in order to use it: http://konlpy.org/en/latest/install/",
     "output_type": "error",
     "traceback": [
      "\u001b[1;31m---------------------------------------------------------------------------\u001b[0m",
      "\u001b[1;31mNameError\u001b[0m                                 Traceback (most recent call last)",
      "\u001b[1;32m~\\anaconda3\\lib\\site-packages\\konlpy\\tag\\_mecab.py\u001b[0m in \u001b[0;36m__init__\u001b[1;34m(self, dicpath)\u001b[0m\n\u001b[0;32m     76\u001b[0m         \u001b[1;32mtry\u001b[0m\u001b[1;33m:\u001b[0m\u001b[1;33m\u001b[0m\u001b[1;33m\u001b[0m\u001b[0m\n\u001b[1;32m---> 77\u001b[1;33m             \u001b[0mself\u001b[0m\u001b[1;33m.\u001b[0m\u001b[0mtagger\u001b[0m \u001b[1;33m=\u001b[0m \u001b[0mTagger\u001b[0m\u001b[1;33m(\u001b[0m\u001b[1;34m'-d %s'\u001b[0m \u001b[1;33m%\u001b[0m \u001b[0mdicpath\u001b[0m\u001b[1;33m)\u001b[0m\u001b[1;33m\u001b[0m\u001b[1;33m\u001b[0m\u001b[0m\n\u001b[0m\u001b[0;32m     78\u001b[0m             \u001b[0mself\u001b[0m\u001b[1;33m.\u001b[0m\u001b[0mtagset\u001b[0m \u001b[1;33m=\u001b[0m \u001b[0mutils\u001b[0m\u001b[1;33m.\u001b[0m\u001b[0mread_json\u001b[0m\u001b[1;33m(\u001b[0m\u001b[1;34m'%s/data/tagset/mecab.json'\u001b[0m \u001b[1;33m%\u001b[0m \u001b[0mutils\u001b[0m\u001b[1;33m.\u001b[0m\u001b[0minstallpath\u001b[0m\u001b[1;33m)\u001b[0m\u001b[1;33m\u001b[0m\u001b[1;33m\u001b[0m\u001b[0m\n",
      "\u001b[1;31mNameError\u001b[0m: name 'Tagger' is not defined",
      "\nDuring handling of the above exception, another exception occurred:\n",
      "\u001b[1;31mException\u001b[0m                                 Traceback (most recent call last)",
      "\u001b[1;32m<ipython-input-134-e3c0c7a18398>\u001b[0m in \u001b[0;36m<module>\u001b[1;34m\u001b[0m\n\u001b[1;32m----> 1\u001b[1;33m \u001b[0mtokenizer\u001b[0m \u001b[1;33m=\u001b[0m \u001b[0mMecab\u001b[0m\u001b[1;33m(\u001b[0m\u001b[1;33m)\u001b[0m\u001b[1;33m\u001b[0m\u001b[1;33m\u001b[0m\u001b[0m\n\u001b[0m",
      "\u001b[1;32m~\\anaconda3\\lib\\site-packages\\konlpy\\tag\\_mecab.py\u001b[0m in \u001b[0;36m__init__\u001b[1;34m(self, dicpath)\u001b[0m\n\u001b[0;32m     80\u001b[0m             \u001b[1;32mraise\u001b[0m \u001b[0mException\u001b[0m\u001b[1;33m(\u001b[0m\u001b[1;34m'The MeCab dictionary does not exist at \"%s\". Is the dictionary correctly installed?\\nYou can also try entering the dictionary path when initializing the Mecab class: \"Mecab(\\'/some/dic/path\\')\"'\u001b[0m \u001b[1;33m%\u001b[0m \u001b[0mdicpath\u001b[0m\u001b[1;33m)\u001b[0m\u001b[1;33m\u001b[0m\u001b[1;33m\u001b[0m\u001b[0m\n\u001b[0;32m     81\u001b[0m         \u001b[1;32mexcept\u001b[0m \u001b[0mNameError\u001b[0m\u001b[1;33m:\u001b[0m\u001b[1;33m\u001b[0m\u001b[1;33m\u001b[0m\u001b[0m\n\u001b[1;32m---> 82\u001b[1;33m             \u001b[1;32mraise\u001b[0m \u001b[0mException\u001b[0m\u001b[1;33m(\u001b[0m\u001b[1;34m'Install MeCab in order to use it: http://konlpy.org/en/latest/install/'\u001b[0m\u001b[1;33m)\u001b[0m\u001b[1;33m\u001b[0m\u001b[1;33m\u001b[0m\u001b[0m\n\u001b[0m\u001b[0;32m     83\u001b[0m \u001b[1;33m\u001b[0m\u001b[0m\n\u001b[0;32m     84\u001b[0m     \u001b[1;32mdef\u001b[0m \u001b[0m__setstate__\u001b[0m\u001b[1;33m(\u001b[0m\u001b[0mself\u001b[0m\u001b[1;33m,\u001b[0m \u001b[0mstate\u001b[0m\u001b[1;33m)\u001b[0m\u001b[1;33m:\u001b[0m\u001b[1;33m\u001b[0m\u001b[1;33m\u001b[0m\u001b[0m\n",
      "\u001b[1;31mException\u001b[0m: Install MeCab in order to use it: http://konlpy.org/en/latest/install/"
     ]
    }
   ],
   "source": [
    "tokenizer = Mecab()"
   ]
  },
  {
   "cell_type": "code",
   "execution_count": null,
   "id": "d18eee23",
   "metadata": {},
   "outputs": [],
   "source": []
  }
 ],
 "metadata": {
  "kernelspec": {
   "display_name": "Python 3",
   "language": "python",
   "name": "python3"
  },
  "language_info": {
   "codemirror_mode": {
    "name": "ipython",
    "version": 3
   },
   "file_extension": ".py",
   "mimetype": "text/x-python",
   "name": "python",
   "nbconvert_exporter": "python",
   "pygments_lexer": "ipython3",
   "version": "3.8.8"
  }
 },
 "nbformat": 4,
 "nbformat_minor": 5
}
